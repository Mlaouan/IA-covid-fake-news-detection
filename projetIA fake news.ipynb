{
  "cells": [
    {
      "cell_type": "markdown",
      "source": [
        "# ***Projet IA***"
      ],
      "metadata": {
        "id": "6r8mS0JAYQ5i"
      },
      "id": "6r8mS0JAYQ5i"
    },
    {
      "cell_type": "markdown",
      "source": [
        "# Importation des données"
      ],
      "metadata": {
        "id": "wQrw7FbAYdJ4"
      },
      "id": "wQrw7FbAYdJ4"
    },
    {
      "cell_type": "code",
      "execution_count": 1,
      "metadata": {
        "colab": {
          "base_uri": "https://localhost:8080/"
        },
        "id": "7b06a1b4",
        "outputId": "4b44753a-9e4e-4762-ef76-f2cfc4c6045f"
      },
      "outputs": [
        {
          "output_type": "stream",
          "name": "stderr",
          "text": [
            "[nltk_data] Downloading package stopwords to /root/nltk_data...\n",
            "[nltk_data]   Package stopwords is already up-to-date!\n",
            "[nltk_data] Downloading package wordnet to /root/nltk_data...\n",
            "[nltk_data]   Package wordnet is already up-to-date!\n"
          ]
        }
      ],
      "source": [
        "import pandas as pd\n",
        "import numpy as np\n",
        "\n",
        "import seaborn as sns\n",
        "import matplotlib.pyplot as plt\n",
        "\n",
        "#for text pre-processing\n",
        "import re, string\n",
        "import nltk\n",
        "from nltk.tokenize import word_tokenize\n",
        "from nltk.corpus import stopwords\n",
        "from nltk.stem import SnowballStemmer\n",
        "from nltk.corpus import wordnet\n",
        "from nltk.stem import WordNetLemmatizer\n",
        "\n",
        "nltk.download('stopwords')\n",
        "nltk.download('wordnet')\n",
        "\n",
        "#for model-building\n",
        "from sklearn.model_selection import train_test_split\n",
        "\n",
        "\n",
        "\n",
        "# bag of words\n",
        "from sklearn.feature_extraction.text import TfidfVectorizer\n",
        "\n",
        "#rn\n",
        "from tensorflow import keras\n"
      ],
      "id": "7b06a1b4"
    },
    {
      "cell_type": "code",
      "execution_count": 2,
      "metadata": {
        "colab": {
          "base_uri": "https://localhost:8080/"
        },
        "id": "eZv6ZJ-xvx_m",
        "outputId": "4840de66-cac3-4b14-a977-85622b2fd2b2"
      },
      "outputs": [
        {
          "output_type": "stream",
          "name": "stdout",
          "text": [
            "Drive already mounted at /content/drive; to attempt to forcibly remount, call drive.mount(\"/content/drive\", force_remount=True).\n"
          ]
        }
      ],
      "source": [
        "from google.colab import drive\n",
        "drive.mount('/content/drive')"
      ],
      "id": "eZv6ZJ-xvx_m"
    },
    {
      "cell_type": "markdown",
      "source": [
        "# Analyse"
      ],
      "metadata": {
        "id": "rrHOika6Yl6q"
      },
      "id": "rrHOika6Yl6q"
    },
    {
      "cell_type": "code",
      "execution_count": 3,
      "metadata": {
        "colab": {
          "base_uri": "https://localhost:8080/",
          "height": 441
        },
        "id": "d9d71255",
        "outputId": "881d1ff3-d41f-40c9-89e9-4634d697601f"
      },
      "outputs": [
        {
          "output_type": "stream",
          "name": "stdout",
          "text": [
            "(6420, 3)\n"
          ]
        },
        {
          "output_type": "execute_result",
          "data": {
            "text/plain": [
              "          id                                              tweet label\n",
              "0        1.0  The CDC currently reports 99031 deaths. In gen...  real\n",
              "1        2.0  States reported 1121 deaths a small rise from ...  real\n",
              "2        3.0  Politically Correct Woman (Almost) Uses Pandem...  fake\n",
              "3        4.0  #IndiaFightsCorona: We have 1524 #COVID testin...  real\n",
              "4        5.0  Populous states can generate large case counts...  real\n",
              "...      ...                                                ...   ...\n",
              "6415  6416.0  A tiger tested positive for COVID-19 please st...  fake\n",
              "6416  6417.0  ???Autopsies prove that COVID-19 is??� a blood...  fake\n",
              "6417  6418.0  _A post claims a COVID-19 vaccine has already ...  fake\n",
              "6418  6419.0  Aamir Khan Donate 250 Cr. In PM Relief Cares Fund  fake\n",
              "6419  6420.0  It has been 93 days since the last case of COV...  real\n",
              "\n",
              "[6420 rows x 3 columns]"
            ],
            "text/html": [
              "\n",
              "  <div id=\"df-f0874cfc-ccc9-40b5-80c3-00a4c1b33d4e\">\n",
              "    <div class=\"colab-df-container\">\n",
              "      <div>\n",
              "<style scoped>\n",
              "    .dataframe tbody tr th:only-of-type {\n",
              "        vertical-align: middle;\n",
              "    }\n",
              "\n",
              "    .dataframe tbody tr th {\n",
              "        vertical-align: top;\n",
              "    }\n",
              "\n",
              "    .dataframe thead th {\n",
              "        text-align: right;\n",
              "    }\n",
              "</style>\n",
              "<table border=\"1\" class=\"dataframe\">\n",
              "  <thead>\n",
              "    <tr style=\"text-align: right;\">\n",
              "      <th></th>\n",
              "      <th>id</th>\n",
              "      <th>tweet</th>\n",
              "      <th>label</th>\n",
              "    </tr>\n",
              "  </thead>\n",
              "  <tbody>\n",
              "    <tr>\n",
              "      <th>0</th>\n",
              "      <td>1.0</td>\n",
              "      <td>The CDC currently reports 99031 deaths. In gen...</td>\n",
              "      <td>real</td>\n",
              "    </tr>\n",
              "    <tr>\n",
              "      <th>1</th>\n",
              "      <td>2.0</td>\n",
              "      <td>States reported 1121 deaths a small rise from ...</td>\n",
              "      <td>real</td>\n",
              "    </tr>\n",
              "    <tr>\n",
              "      <th>2</th>\n",
              "      <td>3.0</td>\n",
              "      <td>Politically Correct Woman (Almost) Uses Pandem...</td>\n",
              "      <td>fake</td>\n",
              "    </tr>\n",
              "    <tr>\n",
              "      <th>3</th>\n",
              "      <td>4.0</td>\n",
              "      <td>#IndiaFightsCorona: We have 1524 #COVID testin...</td>\n",
              "      <td>real</td>\n",
              "    </tr>\n",
              "    <tr>\n",
              "      <th>4</th>\n",
              "      <td>5.0</td>\n",
              "      <td>Populous states can generate large case counts...</td>\n",
              "      <td>real</td>\n",
              "    </tr>\n",
              "    <tr>\n",
              "      <th>...</th>\n",
              "      <td>...</td>\n",
              "      <td>...</td>\n",
              "      <td>...</td>\n",
              "    </tr>\n",
              "    <tr>\n",
              "      <th>6415</th>\n",
              "      <td>6416.0</td>\n",
              "      <td>A tiger tested positive for COVID-19 please st...</td>\n",
              "      <td>fake</td>\n",
              "    </tr>\n",
              "    <tr>\n",
              "      <th>6416</th>\n",
              "      <td>6417.0</td>\n",
              "      <td>???Autopsies prove that COVID-19 is??� a blood...</td>\n",
              "      <td>fake</td>\n",
              "    </tr>\n",
              "    <tr>\n",
              "      <th>6417</th>\n",
              "      <td>6418.0</td>\n",
              "      <td>_A post claims a COVID-19 vaccine has already ...</td>\n",
              "      <td>fake</td>\n",
              "    </tr>\n",
              "    <tr>\n",
              "      <th>6418</th>\n",
              "      <td>6419.0</td>\n",
              "      <td>Aamir Khan Donate 250 Cr. In PM Relief Cares Fund</td>\n",
              "      <td>fake</td>\n",
              "    </tr>\n",
              "    <tr>\n",
              "      <th>6419</th>\n",
              "      <td>6420.0</td>\n",
              "      <td>It has been 93 days since the last case of COV...</td>\n",
              "      <td>real</td>\n",
              "    </tr>\n",
              "  </tbody>\n",
              "</table>\n",
              "<p>6420 rows × 3 columns</p>\n",
              "</div>\n",
              "      <button class=\"colab-df-convert\" onclick=\"convertToInteractive('df-f0874cfc-ccc9-40b5-80c3-00a4c1b33d4e')\"\n",
              "              title=\"Convert this dataframe to an interactive table.\"\n",
              "              style=\"display:none;\">\n",
              "        \n",
              "  <svg xmlns=\"http://www.w3.org/2000/svg\" height=\"24px\"viewBox=\"0 0 24 24\"\n",
              "       width=\"24px\">\n",
              "    <path d=\"M0 0h24v24H0V0z\" fill=\"none\"/>\n",
              "    <path d=\"M18.56 5.44l.94 2.06.94-2.06 2.06-.94-2.06-.94-.94-2.06-.94 2.06-2.06.94zm-11 1L8.5 8.5l.94-2.06 2.06-.94-2.06-.94L8.5 2.5l-.94 2.06-2.06.94zm10 10l.94 2.06.94-2.06 2.06-.94-2.06-.94-.94-2.06-.94 2.06-2.06.94z\"/><path d=\"M17.41 7.96l-1.37-1.37c-.4-.4-.92-.59-1.43-.59-.52 0-1.04.2-1.43.59L10.3 9.45l-7.72 7.72c-.78.78-.78 2.05 0 2.83L4 21.41c.39.39.9.59 1.41.59.51 0 1.02-.2 1.41-.59l7.78-7.78 2.81-2.81c.8-.78.8-2.07 0-2.86zM5.41 20L4 18.59l7.72-7.72 1.47 1.35L5.41 20z\"/>\n",
              "  </svg>\n",
              "      </button>\n",
              "      \n",
              "  <style>\n",
              "    .colab-df-container {\n",
              "      display:flex;\n",
              "      flex-wrap:wrap;\n",
              "      gap: 12px;\n",
              "    }\n",
              "\n",
              "    .colab-df-convert {\n",
              "      background-color: #E8F0FE;\n",
              "      border: none;\n",
              "      border-radius: 50%;\n",
              "      cursor: pointer;\n",
              "      display: none;\n",
              "      fill: #1967D2;\n",
              "      height: 32px;\n",
              "      padding: 0 0 0 0;\n",
              "      width: 32px;\n",
              "    }\n",
              "\n",
              "    .colab-df-convert:hover {\n",
              "      background-color: #E2EBFA;\n",
              "      box-shadow: 0px 1px 2px rgba(60, 64, 67, 0.3), 0px 1px 3px 1px rgba(60, 64, 67, 0.15);\n",
              "      fill: #174EA6;\n",
              "    }\n",
              "\n",
              "    [theme=dark] .colab-df-convert {\n",
              "      background-color: #3B4455;\n",
              "      fill: #D2E3FC;\n",
              "    }\n",
              "\n",
              "    [theme=dark] .colab-df-convert:hover {\n",
              "      background-color: #434B5C;\n",
              "      box-shadow: 0px 1px 3px 1px rgba(0, 0, 0, 0.15);\n",
              "      filter: drop-shadow(0px 1px 2px rgba(0, 0, 0, 0.3));\n",
              "      fill: #FFFFFF;\n",
              "    }\n",
              "  </style>\n",
              "\n",
              "      <script>\n",
              "        const buttonEl =\n",
              "          document.querySelector('#df-f0874cfc-ccc9-40b5-80c3-00a4c1b33d4e button.colab-df-convert');\n",
              "        buttonEl.style.display =\n",
              "          google.colab.kernel.accessAllowed ? 'block' : 'none';\n",
              "\n",
              "        async function convertToInteractive(key) {\n",
              "          const element = document.querySelector('#df-f0874cfc-ccc9-40b5-80c3-00a4c1b33d4e');\n",
              "          const dataTable =\n",
              "            await google.colab.kernel.invokeFunction('convertToInteractive',\n",
              "                                                     [key], {});\n",
              "          if (!dataTable) return;\n",
              "\n",
              "          const docLinkHtml = 'Like what you see? Visit the ' +\n",
              "            '<a target=\"_blank\" href=https://colab.research.google.com/notebooks/data_table.ipynb>data table notebook</a>'\n",
              "            + ' to learn more about interactive tables.';\n",
              "          element.innerHTML = '';\n",
              "          dataTable['output_type'] = 'display_data';\n",
              "          await google.colab.output.renderOutput(dataTable, element);\n",
              "          const docLink = document.createElement('div');\n",
              "          docLink.innerHTML = docLinkHtml;\n",
              "          element.appendChild(docLink);\n",
              "        }\n",
              "      </script>\n",
              "    </div>\n",
              "  </div>\n",
              "  "
            ]
          },
          "metadata": {},
          "execution_count": 3
        }
      ],
      "source": [
        "#LOADING DATA\n",
        "df_train=pd.read_excel('drive/My Drive/Colab Notebooks/Data-FakeRealCOVID.xlsx')\n",
        "print(df_train.shape)\n",
        "df_train.head()\n",
        "df_train"
      ],
      "id": "d9d71255"
    },
    {
      "cell_type": "code",
      "execution_count": 4,
      "metadata": {
        "colab": {
          "base_uri": "https://localhost:8080/"
        },
        "id": "9ce47056",
        "outputId": "04ec85c9-5c01-4497-af1a-a95cd753fa8c"
      },
      "outputs": [
        {
          "output_type": "stream",
          "name": "stdout",
          "text": [
            "['id', 'tweet', 'label']\n"
          ]
        }
      ],
      "source": [
        "#UN PEU D'ANALYSE \n",
        "\n",
        "print(df_train.columns.tolist())"
      ],
      "id": "9ce47056"
    },
    {
      "cell_type": "code",
      "execution_count": 5,
      "metadata": {
        "colab": {
          "base_uri": "https://localhost:8080/",
          "height": 392
        },
        "id": "06622b5f",
        "outputId": "686b11bb-4a36-4690-d86d-b1f4540ed2c3"
      },
      "outputs": [
        {
          "output_type": "stream",
          "name": "stdout",
          "text": [
            "real    3360\n",
            "fake    3060\n",
            "Name: label, dtype: int64\n"
          ]
        },
        {
          "output_type": "stream",
          "name": "stderr",
          "text": [
            "/usr/local/lib/python3.7/dist-packages/seaborn/_decorators.py:43: FutureWarning: Pass the following variables as keyword args: x, y. From version 0.12, the only valid positional argument will be `data`, and passing other arguments without an explicit keyword will result in an error or misinterpretation.\n",
            "  FutureWarning\n"
          ]
        },
        {
          "output_type": "execute_result",
          "data": {
            "text/plain": [
              "<matplotlib.axes._subplots.AxesSubplot at 0x7f04d05fcb10>"
            ]
          },
          "metadata": {},
          "execution_count": 5
        },
        {
          "output_type": "display_data",
          "data": {
            "text/plain": [
              "<Figure size 432x288 with 1 Axes>"
            ],
            "image/png": "[encoded data removed]"
          },
          "metadata": {
            "needs_background": "light"
          }
        }
      ],
      "source": [
        "# CLASS DISTRIBUTION\n",
        "x=df_train['label'].value_counts()\n",
        "print(x)\n",
        "sns.barplot(x.index,x) ##representation des diff variables du label real/fake\n"
      ],
      "id": "06622b5f"
    },
    {
      "cell_type": "code",
      "execution_count": 6,
      "metadata": {
        "colab": {
          "base_uri": "https://localhost:8080/"
        },
        "id": "036ad4cd",
        "outputId": "b7002bb8-e728-47e6-ba77-554e7cdee63f"
      },
      "outputs": [
        {
          "output_type": "execute_result",
          "data": {
            "text/plain": [
              "id       0\n",
              "tweet    0\n",
              "label    0\n",
              "dtype: int64"
            ]
          },
          "metadata": {},
          "execution_count": 6
        }
      ],
      "source": [
        "#Missing values\n",
        "df_train.isna().sum()\n"
      ],
      "id": "036ad4cd"
    },
    {
      "cell_type": "code",
      "execution_count": 7,
      "metadata": {
        "colab": {
          "base_uri": "https://localhost:8080/"
        },
        "id": "dfbe64c6",
        "outputId": "be6b47e6-3c83-49b7-8bd0-4439140e1704"
      },
      "outputs": [
        {
          "output_type": "stream",
          "name": "stdout",
          "text": [
            "31.676488095238096\n",
            "21.865359477124183\n"
          ]
        }
      ],
      "source": [
        "#WORD-COUNT (return average)\n",
        "df_train['word_count'] = df_train['tweet'].apply(lambda x: len(str(x).split()))\n",
        "print(df_train[df_train['label']=='real']['word_count'].mean()) #real tweets\n",
        "print(df_train[df_train['label']=='fake']['word_count'].mean()) #fake tweets\n",
        "#real tweets are more wordy than the fake ones\n"
      ],
      "id": "dfbe64c6"
    },
    {
      "cell_type": "code",
      "execution_count": 8,
      "metadata": {
        "colab": {
          "base_uri": "https://localhost:8080/"
        },
        "id": "e4bbfc37",
        "outputId": "0215ce4f-616d-4bd6-dcd5-93387b876297"
      },
      "outputs": [
        {
          "output_type": "stream",
          "name": "stdout",
          "text": [
            "215.06160714285716\n",
            "144.89019607843136\n"
          ]
        }
      ],
      "source": [
        "#CHARACTER-COUNT(return average)\n",
        "df_train['char_count'] = df_train['tweet'].apply(lambda x: len(str(x)))\n",
        "print(df_train[df_train['label']=='real']['char_count'].mean()) #real tweets\n",
        "print(df_train[df_train['label']=='fake']['char_count'].mean()) #fake tweets\n",
        "#real tweets are longer than the fake ones\n"
      ],
      "id": "e4bbfc37"
    },
    {
      "cell_type": "code",
      "execution_count": 9,
      "metadata": {
        "colab": {
          "base_uri": "https://localhost:8080/"
        },
        "id": "fad83959",
        "outputId": "b3a52505-0f2a-45c8-c6c8-0d1297f4acf3"
      },
      "outputs": [
        {
          "output_type": "stream",
          "name": "stdout",
          "text": [
            "28.428571428571427\n",
            "19.99640522875817\n"
          ]
        }
      ],
      "source": [
        "#UNIQUE WORD-COUNT\n",
        "df_train['unique_word_count'] = df_train['tweet'].apply(lambda x: len(set(str(x).split())))\n",
        "print(df_train[df_train['label']=='real']['unique_word_count'].mean()) #real tweets\n",
        "print(df_train[df_train['label']=='fake']['unique_word_count'].mean()) #fake tweets\n"
      ],
      "id": "fad83959"
    },
    {
      "cell_type": "code",
      "execution_count": 10,
      "metadata": {
        "colab": {
          "base_uri": "https://localhost:8080/",
          "height": 294
        },
        "id": "d6ed4259",
        "outputId": "84a98b6f-1cd5-4262-e139-2b81a4f3b30b"
      },
      "outputs": [
        {
          "output_type": "display_data",
          "data": {
            "text/plain": [
              "<Figure size 720x288 with 2 Axes>"
            ],
            "image/png": "[encoded data removed]"
          },
          "metadata": {
            "needs_background": "light"
          }
        }
      ],
      "source": [
        "#Plotting word-count per tweet\n",
        "fig,(ax1,ax2)=plt.subplots(1,2,figsize=(10,4))\n",
        "train_words=df_train[df_train['label']=='real']['word_count']\n",
        "ax1.hist(train_words,color='red')\n",
        "ax1.set_title('real tweets')\n",
        "train_words=df_train[df_train['label']=='fake']['word_count']\n",
        "ax2.hist(train_words,color='green' , range=(0,60) )\n",
        "ax2.set_title('fake tweets')\n",
        "fig.suptitle('Words per tweet')\n",
        "plt.show()\n"
      ],
      "id": "d6ed4259"
    },
    {
      "cell_type": "markdown",
      "source": [
        "# PHASE DE PRE-PROCESSING"
      ],
      "metadata": {
        "id": "kfgknN5xZUBo"
      },
      "id": "kfgknN5xZUBo"
    },
    {
      "cell_type": "markdown",
      "source": [
        "## Emoji"
      ],
      "metadata": {
        "id": "ydx1RstFZwWd"
      },
      "id": "ydx1RstFZwWd"
    },
    {
      "cell_type": "code",
      "execution_count": 11,
      "metadata": {
        "id": "3a17074b"
      },
      "outputs": [],
      "source": [
        "def deEmojify(inputString):\n",
        "    return inputString.encode('ascii', 'ignore').decode('ascii')"
      ],
      "id": "3a17074b"
    },
    {
      "cell_type": "markdown",
      "source": [
        "## Convert to lowercase and remove punctuations and characters and strip.."
      ],
      "metadata": {
        "id": "I-nTupxuZ1wW"
      },
      "id": "I-nTupxuZ1wW"
    },
    {
      "cell_type": "code",
      "execution_count": 12,
      "metadata": {
        "id": "916d10c4"
      },
      "outputs": [],
      "source": [
        "\n",
        "def preprocess(text):\n",
        "    text = text.lower() #lowercase text\n",
        "    text = text.strip()  #get rid of leading/trailing whitespace supprime les espaces au debut et a la fin de la phrase\n",
        "    text = re.sub(\"https?:\\/\\/.*[\\r\\n]*\", \"\", text) #liens\n",
        "    text = re.sub(\"@\\S+\", \"\",text) #mentions#####\n",
        "    text = re.sub(\"#\\S+\", \"\", text) #hastags#####\n",
        "    text = re.compile('<.*?>').sub('', text) #Remove HTML tags/markups\n",
        "    text = re.compile('[%s]' % re.escape(string.punctuation)).sub(' ', text)  #Replace punctuation with space. Careful since punctuation can sometime be useful\n",
        "    text = re.sub('\\s+', ' ', text)  #Remove extra space and tabs\n",
        "    text = re.sub(\"[0-9]\\S+\", \"\", text) #numbers+letters#######\n",
        "    text = re.sub(r'\\[[0-9]*\\]',' ',text) #[0-9] matches any digit (0 to 10000...) remove numbers between []\n",
        "    text = re.sub(r'[^\\w\\s]', '', str(text).lower().strip())\n",
        "    text = re.sub(r'\\d',' ',text) #matches any digit from 0 to 100000..., \\D matches non-digits remove numbers found in string\n",
        "    text = re.sub(r'\\s+',' ',text) #\\s matches any whitespace, \\s+ matches multiple whitespace, \\S matches non-whitespace \n",
        "    text = re.sub(\"corona\\S+\", \"covid\",text) #derivés de covid######\n",
        "\n",
        "    return text\n"
      ],
      "id": "916d10c4"
    },
    {
      "cell_type": "markdown",
      "source": [
        "## Stopword removal"
      ],
      "metadata": {
        "id": "ggBtCek4Z82q"
      },
      "id": "ggBtCek4Z82q"
    },
    {
      "cell_type": "code",
      "execution_count": 13,
      "metadata": {
        "id": "fc0a806a"
      },
      "outputs": [],
      "source": [
        "def stopword(string):\n",
        "    a= [i for i in string.split() if i not in stopwords.words('english')]\n",
        "    return ' '.join(a)\n"
      ],
      "id": "fc0a806a"
    },
    {
      "cell_type": "markdown",
      "source": [
        "## Stemming"
      ],
      "metadata": {
        "id": "Uu5Onv0yZ-5h"
      },
      "id": "Uu5Onv0yZ-5h"
    },
    {
      "cell_type": "code",
      "execution_count": 14,
      "metadata": {
        "id": "0828a81a"
      },
      "outputs": [],
      "source": [
        "#(slicing the end or the beginning of words with the intention of removing affixes(prefix/suffix))\n",
        " \n",
        "# Initialize the stemmer\n",
        "snow = SnowballStemmer('english')\n",
        "def stemming(string):\n",
        "    a=[snow.stem(i) for i in word_tokenize(string) ]\n",
        "    return \" \".join(a)\n"
      ],
      "id": "0828a81a"
    },
    {
      "cell_type": "markdown",
      "source": [
        "## Lemmatization"
      ],
      "metadata": {
        "id": "oFmsqIhUaGtW"
      },
      "id": "oFmsqIhUaGtW"
    },
    {
      "cell_type": "code",
      "execution_count": 15,
      "metadata": {
        "id": "5ea45cbe"
      },
      "outputs": [],
      "source": [
        "#(reducing the word to its base form)\n",
        "\n",
        "# Initialize the lemmatizer\n",
        "wl = WordNetLemmatizer()\n",
        " \n",
        "def get_wordnet_pos(tag):\n",
        "    if tag.startswith('J'):\n",
        "        return wordnet.ADJ\n",
        "    elif tag.startswith('V'):\n",
        "        return wordnet.VERB\n",
        "    elif tag.startswith('N'):\n",
        "        return wordnet.NOUN\n",
        "    elif tag.startswith('R'):\n",
        "        return wordnet.ADV\n",
        "    else:\n",
        "        return wordnet.NOUN\n"
      ],
      "id": "5ea45cbe"
    },
    {
      "cell_type": "code",
      "execution_count": 16,
      "metadata": {
        "id": "33460e91"
      },
      "outputs": [],
      "source": [
        "# Tokenize the sentence\n",
        "def lemmatizer(string):\n",
        "    word_pos_tags = nltk.pos_tag(word_tokenize(string)) # Get position tags\n",
        "    a=[wl.lemmatize(tag[0], get_wordnet_pos(tag[1])) for idx, tag in enumerate(word_pos_tags)] # Map the position tag and lemmatize the word/token\n",
        "    return \" \".join(a)\n",
        "\n"
      ],
      "id": "33460e91"
    },
    {
      "cell_type": "markdown",
      "source": [
        "##1.5. Final processing"
      ],
      "metadata": {
        "id": "T1z7pgyEat7t"
      },
      "id": "T1z7pgyEat7t"
    },
    {
      "cell_type": "code",
      "execution_count": 17,
      "metadata": {
        "id": "eff2a8c4"
      },
      "outputs": [],
      "source": [
        "def finalpreprocess(string):\n",
        "    return lemmatizer(preprocess(deEmojify(stopword(string))))\n"
      ],
      "id": "eff2a8c4"
    },
    {
      "cell_type": "code",
      "execution_count": 22,
      "metadata": {
        "id": "d0c16d89",
        "colab": {
          "base_uri": "https://localhost:8080/"
        },
        "outputId": "d54c9da9-440b-407f-dede-1fdfb15da3cc"
      },
      "outputs": [
        {
          "output_type": "stream",
          "name": "stderr",
          "text": [
            "[nltk_data] Downloading package punkt to /root/nltk_data...\n",
            "[nltk_data]   Package punkt is already up-to-date!\n",
            "[nltk_data] Downloading package averaged_perceptron_tagger to\n",
            "[nltk_data]     /root/nltk_data...\n",
            "[nltk_data]   Package averaged_perceptron_tagger is already up-to-\n",
            "[nltk_data]       date!\n",
            "[nltk_data] Downloading package omw-1.4 to /root/nltk_data...\n"
          ]
        }
      ],
      "source": [
        "nltk.download('punkt')\n",
        "nltk.download('averaged_perceptron_tagger')\n",
        "nltk.download('omw-1.4')\n",
        "df_train['clean_tweet'] = df_train['tweet'].apply(lambda x: finalpreprocess(x))\n",
        "df_train=df_train.drop(columns=['word_count','char_count','unique_word_count'])"
      ],
      "id": "d0c16d89"
    },
    {
      "cell_type": "code",
      "execution_count": 23,
      "metadata": {
        "colab": {
          "base_uri": "https://localhost:8080/",
          "height": 206
        },
        "id": "C7m56x-xzuv2",
        "outputId": "90418e96-1f96-40b7-88f7-960b09ec6302"
      },
      "outputs": [
        {
          "output_type": "execute_result",
          "data": {
            "text/plain": [
              "    id                                              tweet label  \\\n",
              "0  1.0  The CDC currently reports 99031 deaths. In gen...  real   \n",
              "1  2.0  States reported 1121 deaths a small rise from ...  real   \n",
              "2  3.0  Politically Correct Woman (Almost) Uses Pandem...  fake   \n",
              "3  4.0  #IndiaFightsCorona: We have 1524 #COVID testin...  real   \n",
              "4  5.0  Populous states can generate large case counts...  real   \n",
              "\n",
              "                                         clean_tweet  redif_label  \n",
              "0  the cdc currently report death in general disc...            1  \n",
              "1  state report death small rise last tuesday sou...            1  \n",
              "2  politically correct woman almost use pandemic ...            0  \n",
              "3         we test laboratory india august test do dg            1  \n",
              "4  populous state generate large case count look ...            1  "
            ],
            "text/html": [
              "\n",
              "  <div id=\"df-6f0b14e3-55c8-4c5d-a430-df73a29f2401\">\n",
              "    <div class=\"colab-df-container\">\n",
              "      <div>\n",
              "<style scoped>\n",
              "    .dataframe tbody tr th:only-of-type {\n",
              "        vertical-align: middle;\n",
              "    }\n",
              "\n",
              "    .dataframe tbody tr th {\n",
              "        vertical-align: top;\n",
              "    }\n",
              "\n",
              "    .dataframe thead th {\n",
              "        text-align: right;\n",
              "    }\n",
              "</style>\n",
              "<table border=\"1\" class=\"dataframe\">\n",
              "  <thead>\n",
              "    <tr style=\"text-align: right;\">\n",
              "      <th></th>\n",
              "      <th>id</th>\n",
              "      <th>tweet</th>\n",
              "      <th>label</th>\n",
              "      <th>clean_tweet</th>\n",
              "      <th>redif_label</th>\n",
              "    </tr>\n",
              "  </thead>\n",
              "  <tbody>\n",
              "    <tr>\n",
              "      <th>0</th>\n",
              "      <td>1.0</td>\n",
              "      <td>The CDC currently reports 99031 deaths. In gen...</td>\n",
              "      <td>real</td>\n",
              "      <td>the cdc currently report death in general disc...</td>\n",
              "      <td>1</td>\n",
              "    </tr>\n",
              "    <tr>\n",
              "      <th>1</th>\n",
              "      <td>2.0</td>\n",
              "      <td>States reported 1121 deaths a small rise from ...</td>\n",
              "      <td>real</td>\n",
              "      <td>state report death small rise last tuesday sou...</td>\n",
              "      <td>1</td>\n",
              "    </tr>\n",
              "    <tr>\n",
              "      <th>2</th>\n",
              "      <td>3.0</td>\n",
              "      <td>Politically Correct Woman (Almost) Uses Pandem...</td>\n",
              "      <td>fake</td>\n",
              "      <td>politically correct woman almost use pandemic ...</td>\n",
              "      <td>0</td>\n",
              "    </tr>\n",
              "    <tr>\n",
              "      <th>3</th>\n",
              "      <td>4.0</td>\n",
              "      <td>#IndiaFightsCorona: We have 1524 #COVID testin...</td>\n",
              "      <td>real</td>\n",
              "      <td>we test laboratory india august test do dg</td>\n",
              "      <td>1</td>\n",
              "    </tr>\n",
              "    <tr>\n",
              "      <th>4</th>\n",
              "      <td>5.0</td>\n",
              "      <td>Populous states can generate large case counts...</td>\n",
              "      <td>real</td>\n",
              "      <td>populous state generate large case count look ...</td>\n",
              "      <td>1</td>\n",
              "    </tr>\n",
              "  </tbody>\n",
              "</table>\n",
              "</div>\n",
              "      <button class=\"colab-df-convert\" onclick=\"convertToInteractive('df-6f0b14e3-55c8-4c5d-a430-df73a29f2401')\"\n",
              "              title=\"Convert this dataframe to an interactive table.\"\n",
              "              style=\"display:none;\">\n",
              "        \n",
              "  <svg xmlns=\"http://www.w3.org/2000/svg\" height=\"24px\"viewBox=\"0 0 24 24\"\n",
              "       width=\"24px\">\n",
              "    <path d=\"M0 0h24v24H0V0z\" fill=\"none\"/>\n",
              "    <path d=\"M18.56 5.44l.94 2.06.94-2.06 2.06-.94-2.06-.94-.94-2.06-.94 2.06-2.06.94zm-11 1L8.5 8.5l.94-2.06 2.06-.94-2.06-.94L8.5 2.5l-.94 2.06-2.06.94zm10 10l.94 2.06.94-2.06 2.06-.94-2.06-.94-.94-2.06-.94 2.06-2.06.94z\"/><path d=\"M17.41 7.96l-1.37-1.37c-.4-.4-.92-.59-1.43-.59-.52 0-1.04.2-1.43.59L10.3 9.45l-7.72 7.72c-.78.78-.78 2.05 0 2.83L4 21.41c.39.39.9.59 1.41.59.51 0 1.02-.2 1.41-.59l7.78-7.78 2.81-2.81c.8-.78.8-2.07 0-2.86zM5.41 20L4 18.59l7.72-7.72 1.47 1.35L5.41 20z\"/>\n",
              "  </svg>\n",
              "      </button>\n",
              "      \n",
              "  <style>\n",
              "    .colab-df-container {\n",
              "      display:flex;\n",
              "      flex-wrap:wrap;\n",
              "      gap: 12px;\n",
              "    }\n",
              "\n",
              "    .colab-df-convert {\n",
              "      background-color: #E8F0FE;\n",
              "      border: none;\n",
              "      border-radius: 50%;\n",
              "      cursor: pointer;\n",
              "      display: none;\n",
              "      fill: #1967D2;\n",
              "      height: 32px;\n",
              "      padding: 0 0 0 0;\n",
              "      width: 32px;\n",
              "    }\n",
              "\n",
              "    .colab-df-convert:hover {\n",
              "      background-color: #E2EBFA;\n",
              "      box-shadow: 0px 1px 2px rgba(60, 64, 67, 0.3), 0px 1px 3px 1px rgba(60, 64, 67, 0.15);\n",
              "      fill: #174EA6;\n",
              "    }\n",
              "\n",
              "    [theme=dark] .colab-df-convert {\n",
              "      background-color: #3B4455;\n",
              "      fill: #D2E3FC;\n",
              "    }\n",
              "\n",
              "    [theme=dark] .colab-df-convert:hover {\n",
              "      background-color: #434B5C;\n",
              "      box-shadow: 0px 1px 3px 1px rgba(0, 0, 0, 0.15);\n",
              "      filter: drop-shadow(0px 1px 2px rgba(0, 0, 0, 0.3));\n",
              "      fill: #FFFFFF;\n",
              "    }\n",
              "  </style>\n",
              "\n",
              "      <script>\n",
              "        const buttonEl =\n",
              "          document.querySelector('#df-6f0b14e3-55c8-4c5d-a430-df73a29f2401 button.colab-df-convert');\n",
              "        buttonEl.style.display =\n",
              "          google.colab.kernel.accessAllowed ? 'block' : 'none';\n",
              "\n",
              "        async function convertToInteractive(key) {\n",
              "          const element = document.querySelector('#df-6f0b14e3-55c8-4c5d-a430-df73a29f2401');\n",
              "          const dataTable =\n",
              "            await google.colab.kernel.invokeFunction('convertToInteractive',\n",
              "                                                     [key], {});\n",
              "          if (!dataTable) return;\n",
              "\n",
              "          const docLinkHtml = 'Like what you see? Visit the ' +\n",
              "            '<a target=\"_blank\" href=https://colab.research.google.com/notebooks/data_table.ipynb>data table notebook</a>'\n",
              "            + ' to learn more about interactive tables.';\n",
              "          element.innerHTML = '';\n",
              "          dataTable['output_type'] = 'display_data';\n",
              "          await google.colab.output.renderOutput(dataTable, element);\n",
              "          const docLink = document.createElement('div');\n",
              "          docLink.innerHTML = docLinkHtml;\n",
              "          element.appendChild(docLink);\n",
              "        }\n",
              "      </script>\n",
              "    </div>\n",
              "  </div>\n",
              "  "
            ]
          },
          "metadata": {},
          "execution_count": 23
        }
      ],
      "source": [
        "## mettre real fake dans 0 1 pour le RN\n",
        "df_train['redif_label'] = df_train['label']\n",
        "df_train['redif_label']=df_train['redif_label'].replace('real', 1)\n",
        "df_train['redif_label']=df_train['redif_label'].replace('fake', 0)\n",
        "df_train.head()"
      ],
      "id": "C7m56x-xzuv2"
    },
    {
      "cell_type": "markdown",
      "source": [
        "# PHASE DE VECTORISATION"
      ],
      "metadata": {
        "id": "S5WlLHWGbBbL"
      },
      "id": "S5WlLHWGbBbL"
    },
    {
      "cell_type": "markdown",
      "source": [
        "## Séparation des données"
      ],
      "metadata": {
        "id": "AV59WwIFbOtr"
      },
      "id": "AV59WwIFbOtr"
    },
    {
      "cell_type": "code",
      "execution_count": 24,
      "metadata": {
        "id": "2e934cec"
      },
      "outputs": [],
      "source": [
        "#SPLITTING THE TRAINING DATASET INTO TRAINING AND VALIDATION \n",
        "X_train, X_val, y_train, y_val = train_test_split(df_train[\"clean_tweet\"],\n",
        "                                                  df_train[\"redif_label\"],\n",
        "                                                  test_size=0.2,\n",
        "                                                  shuffle=True)"
      ],
      "id": "2e934cec"
    },
    {
      "cell_type": "markdown",
      "source": [
        "## Bag of words TF-IDF"
      ],
      "metadata": {
        "id": "WDTwUbP0bZIx"
      },
      "id": "WDTwUbP0bZIx"
    },
    {
      "cell_type": "code",
      "execution_count": 25,
      "metadata": {
        "id": "fa3c2fdc"
      },
      "outputs": [],
      "source": [
        "#TF-IDF\n",
        "# Convert x_train to vector since model can only run on numbers and not words- Fit and transform\n",
        "tfidf_vectorizer = TfidfVectorizer(use_idf=True)\n",
        "X_train_vectors_fit = tfidf_vectorizer.fit(X_train)\n",
        "X_train_vectors_tfidf=X_train_vectors_fit.transform(X_train)\n",
        "# Only transform x_test (not fit and transform)\n",
        "#X_val_vectors_fit = tfidf_vectorizer.fit(X_val) \n",
        "#val_tokens=X_val_vectors_fit.get_feature_names_out()\n",
        "X_val_vectors_tfidf = tfidf_vectorizer.transform(X_val)\n",
        "#Don't fit() your TfidfVectorizer to your test data: it will \n",
        "#change the word-indexes & weights to match test data. Rather, fit on the training data, then use the same train-data-\n",
        "#fit model on the test data, to reflect the fact you're analyzing the test data only based on what was learned without \n",
        "#it, and the have compatible"
      ],
      "id": "fa3c2fdc"
    },
    {
      "cell_type": "code",
      "source": [
        "shape=X_train_vectors_tfidf.shape[1]\n",
        "shape"
      ],
      "metadata": {
        "colab": {
          "base_uri": "https://localhost:8080/"
        },
        "id": "lm7iB79dvbkt",
        "outputId": "0036c10c-5c04-4d88-e139-5177580049a5"
      },
      "id": "lm7iB79dvbkt",
      "execution_count": 26,
      "outputs": [
        {
          "output_type": "execute_result",
          "data": {
            "text/plain": [
              "8087"
            ]
          },
          "metadata": {},
          "execution_count": 26
        }
      ]
    },
    {
      "cell_type": "markdown",
      "source": [
        "# PHASE D'APPRENTISSAGE"
      ],
      "metadata": {
        "id": "Pc7PSscVbwM9"
      },
      "id": "Pc7PSscVbwM9"
    },
    {
      "cell_type": "markdown",
      "source": [
        "## Création du RN"
      ],
      "metadata": {
        "id": "MaqW6uIPb4Uu"
      },
      "id": "MaqW6uIPb4Uu"
    },
    {
      "cell_type": "code",
      "execution_count": 27,
      "metadata": {
        "id": "MCh11Mx-QeCt"
      },
      "outputs": [],
      "source": [
        "def get_model(shape):\n",
        "    model=keras.models.Sequential()\n",
        "    model.add(keras.layers.Dense(units=shape/10, activation='relu', kernel_initializer='uniform', input_dim=shape))\n",
        "    model.add(keras.layers.Dense(units=1, activation='sigmoid', kernel_initializer='uniform'))\n",
        "    model.compile(optimizer='adam',\n",
        "                 loss='mse',\n",
        "                 metrics=['binary_accuracy'])\n",
        "    return model"
      ],
      "id": "MCh11Mx-QeCt"
    },
    {
      "cell_type": "code",
      "execution_count": 28,
      "metadata": {
        "id": "rb5x3Pk0ZH8x",
        "colab": {
          "base_uri": "https://localhost:8080/"
        },
        "outputId": "06304abe-1351-4e2f-804b-822a1a954bd4"
      },
      "outputs": [
        {
          "output_type": "stream",
          "name": "stdout",
          "text": [
            "Model: \"sequential\"\n",
            "_________________________________________________________________\n",
            " Layer (type)                Output Shape              Param #   \n",
            "=================================================================\n",
            " dense (Dense)               (None, 808)               6535104   \n",
            "                                                                 \n",
            " dense_1 (Dense)             (None, 1)                 809       \n",
            "                                                                 \n",
            "=================================================================\n",
            "Total params: 6,535,913\n",
            "Trainable params: 6,535,913\n",
            "Non-trainable params: 0\n",
            "_________________________________________________________________\n"
          ]
        }
      ],
      "source": [
        "model=get_model(shape)\n",
        "model.summary()"
      ],
      "id": "rb5x3Pk0ZH8x"
    },
    {
      "cell_type": "markdown",
      "source": [
        "## Entrainement"
      ],
      "metadata": {
        "id": "VtHIZzeHb_ji"
      },
      "id": "VtHIZzeHb_ji"
    },
    {
      "cell_type": "code",
      "execution_count": 29,
      "metadata": {
        "id": "fN8chzseZRhn",
        "colab": {
          "base_uri": "https://localhost:8080/"
        },
        "outputId": "23d01a14-e161-4657-c926-8b8afce9a0a0"
      },
      "outputs": [
        {
          "output_type": "stream",
          "name": "stdout",
          "text": [
            "Epoch 1/10\n",
            "6/6 [==============================] - 4s 481ms/step - loss: 0.2444 - binary_accuracy: 0.6232 - val_loss: 0.2329 - val_binary_accuracy: 0.7033\n",
            "Epoch 2/10\n",
            "6/6 [==============================] - 3s 443ms/step - loss: 0.2224 - binary_accuracy: 0.8032 - val_loss: 0.2091 - val_binary_accuracy: 0.7812\n",
            "Epoch 3/10\n",
            "6/6 [==============================] - 3s 451ms/step - loss: 0.1917 - binary_accuracy: 0.8828 - val_loss: 0.1781 - val_binary_accuracy: 0.8458\n",
            "Epoch 4/10\n",
            "6/6 [==============================] - 3s 441ms/step - loss: 0.1545 - binary_accuracy: 0.9188 - val_loss: 0.1451 - val_binary_accuracy: 0.8738\n",
            "Epoch 5/10\n",
            "6/6 [==============================] - 3s 443ms/step - loss: 0.1168 - binary_accuracy: 0.9422 - val_loss: 0.1154 - val_binary_accuracy: 0.8964\n",
            "Epoch 6/10\n",
            "6/6 [==============================] - 3s 445ms/step - loss: 0.0848 - binary_accuracy: 0.9546 - val_loss: 0.0939 - val_binary_accuracy: 0.9104\n",
            "Epoch 7/10\n",
            "6/6 [==============================] - 3s 439ms/step - loss: 0.0621 - binary_accuracy: 0.9603 - val_loss: 0.0807 - val_binary_accuracy: 0.9167\n",
            "Epoch 8/10\n",
            "6/6 [==============================] - 3s 442ms/step - loss: 0.0468 - binary_accuracy: 0.9671 - val_loss: 0.0730 - val_binary_accuracy: 0.9174\n",
            "Epoch 9/10\n",
            "6/6 [==============================] - 3s 444ms/step - loss: 0.0363 - binary_accuracy: 0.9739 - val_loss: 0.0687 - val_binary_accuracy: 0.9174\n",
            "Epoch 10/10\n",
            "6/6 [==============================] - 3s 432ms/step - loss: 0.0290 - binary_accuracy: 0.9784 - val_loss: 0.0659 - val_binary_accuracy: 0.9143\n"
          ]
        }
      ],
      "source": [
        "history=model.fit(X_train_vectors_tfidf.toarray(), y_train, batch_size=1000, epochs=10, verbose=1, validation_data=(X_val_vectors_tfidf.toarray(), y_val))"
      ],
      "id": "fN8chzseZRhn"
    },
    {
      "cell_type": "markdown",
      "source": [
        "## Evaluation des performances"
      ],
      "metadata": {
        "id": "7_T8cAX4cFfi"
      },
      "id": "7_T8cAX4cFfi"
    },
    {
      "cell_type": "code",
      "execution_count": 30,
      "metadata": {
        "id": "9H94Ics4aG6z",
        "colab": {
          "base_uri": "https://localhost:8080/"
        },
        "outputId": "45f8527d-0864-4647-9240-cde35e8cd51a"
      },
      "outputs": [
        {
          "output_type": "stream",
          "name": "stdout",
          "text": [
            "41/41 [==============================] - 1s 14ms/step - loss: 0.0659 - binary_accuracy: 0.9143\n",
            "161/161 [==============================] - 2s 14ms/step - loss: 0.0250 - binary_accuracy: 0.9813\n",
            "x_train/loss       : 0.0250\n",
            "x_train/accuracy   : 0.9813\n",
            "x_test/loss       : 0.0659\n",
            "x_test/accuracy   : 0.9143\n"
          ]
        }
      ],
      "source": [
        "score=model.evaluate(X_val_vectors_tfidf.toarray(), y_val, verbose=1)\n",
        "score_train=model.evaluate(X_train_vectors_tfidf.toarray(), y_train, verbose=1)\n",
        "print('x_train/loss       : {:5.4f}'.format(score_train[0]))\n",
        "print('x_train/accuracy   : {:5.4f}'.format(score_train[1]))\n",
        "print('x_test/loss       : {:5.4f}'.format(score[0]))\n",
        "print('x_test/accuracy   : {:5.4f}'.format(score[1]))"
      ],
      "id": "9H94Ics4aG6z"
    },
    {
      "cell_type": "code",
      "execution_count": 31,
      "metadata": {
        "id": "tr0zkGKkaXyy",
        "colab": {
          "base_uri": "https://localhost:8080/",
          "height": 363
        },
        "outputId": "4e493b43-e0f2-4744-d166-5a8b5e19fc25"
      },
      "outputs": [
        {
          "output_type": "execute_result",
          "data": {
            "text/plain": [
              "       loss  binary_accuracy  val_loss  val_binary_accuracy\n",
              "0  0.244409         0.623248  0.232926             0.703271\n",
              "1  0.222370         0.803154  0.209114             0.781153\n",
              "2  0.191675         0.882788  0.178148             0.845794\n",
              "3  0.154532         0.918808  0.145130             0.873832\n",
              "4  0.116802         0.942173  0.115374             0.896417\n",
              "5  0.084835         0.954634  0.093878             0.910436\n",
              "6  0.062129         0.960280  0.080705             0.916667\n",
              "7  0.046788         0.967095  0.073035             0.917445\n",
              "8  0.036266         0.973910  0.068681             0.917445\n",
              "9  0.028996         0.978388  0.065874             0.914330"
            ],
            "text/html": [
              "\n",
              "  <div id=\"df-63d94c9a-8320-439e-bd33-8cc379c7e826\">\n",
              "    <div class=\"colab-df-container\">\n",
              "      <div>\n",
              "<style scoped>\n",
              "    .dataframe tbody tr th:only-of-type {\n",
              "        vertical-align: middle;\n",
              "    }\n",
              "\n",
              "    .dataframe tbody tr th {\n",
              "        vertical-align: top;\n",
              "    }\n",
              "\n",
              "    .dataframe thead th {\n",
              "        text-align: right;\n",
              "    }\n",
              "</style>\n",
              "<table border=\"1\" class=\"dataframe\">\n",
              "  <thead>\n",
              "    <tr style=\"text-align: right;\">\n",
              "      <th></th>\n",
              "      <th>loss</th>\n",
              "      <th>binary_accuracy</th>\n",
              "      <th>val_loss</th>\n",
              "      <th>val_binary_accuracy</th>\n",
              "    </tr>\n",
              "  </thead>\n",
              "  <tbody>\n",
              "    <tr>\n",
              "      <th>0</th>\n",
              "      <td>0.244409</td>\n",
              "      <td>0.623248</td>\n",
              "      <td>0.232926</td>\n",
              "      <td>0.703271</td>\n",
              "    </tr>\n",
              "    <tr>\n",
              "      <th>1</th>\n",
              "      <td>0.222370</td>\n",
              "      <td>0.803154</td>\n",
              "      <td>0.209114</td>\n",
              "      <td>0.781153</td>\n",
              "    </tr>\n",
              "    <tr>\n",
              "      <th>2</th>\n",
              "      <td>0.191675</td>\n",
              "      <td>0.882788</td>\n",
              "      <td>0.178148</td>\n",
              "      <td>0.845794</td>\n",
              "    </tr>\n",
              "    <tr>\n",
              "      <th>3</th>\n",
              "      <td>0.154532</td>\n",
              "      <td>0.918808</td>\n",
              "      <td>0.145130</td>\n",
              "      <td>0.873832</td>\n",
              "    </tr>\n",
              "    <tr>\n",
              "      <th>4</th>\n",
              "      <td>0.116802</td>\n",
              "      <td>0.942173</td>\n",
              "      <td>0.115374</td>\n",
              "      <td>0.896417</td>\n",
              "    </tr>\n",
              "    <tr>\n",
              "      <th>5</th>\n",
              "      <td>0.084835</td>\n",
              "      <td>0.954634</td>\n",
              "      <td>0.093878</td>\n",
              "      <td>0.910436</td>\n",
              "    </tr>\n",
              "    <tr>\n",
              "      <th>6</th>\n",
              "      <td>0.062129</td>\n",
              "      <td>0.960280</td>\n",
              "      <td>0.080705</td>\n",
              "      <td>0.916667</td>\n",
              "    </tr>\n",
              "    <tr>\n",
              "      <th>7</th>\n",
              "      <td>0.046788</td>\n",
              "      <td>0.967095</td>\n",
              "      <td>0.073035</td>\n",
              "      <td>0.917445</td>\n",
              "    </tr>\n",
              "    <tr>\n",
              "      <th>8</th>\n",
              "      <td>0.036266</td>\n",
              "      <td>0.973910</td>\n",
              "      <td>0.068681</td>\n",
              "      <td>0.917445</td>\n",
              "    </tr>\n",
              "    <tr>\n",
              "      <th>9</th>\n",
              "      <td>0.028996</td>\n",
              "      <td>0.978388</td>\n",
              "      <td>0.065874</td>\n",
              "      <td>0.914330</td>\n",
              "    </tr>\n",
              "  </tbody>\n",
              "</table>\n",
              "</div>\n",
              "      <button class=\"colab-df-convert\" onclick=\"convertToInteractive('df-63d94c9a-8320-439e-bd33-8cc379c7e826')\"\n",
              "              title=\"Convert this dataframe to an interactive table.\"\n",
              "              style=\"display:none;\">\n",
              "        \n",
              "  <svg xmlns=\"http://www.w3.org/2000/svg\" height=\"24px\"viewBox=\"0 0 24 24\"\n",
              "       width=\"24px\">\n",
              "    <path d=\"M0 0h24v24H0V0z\" fill=\"none\"/>\n",
              "    <path d=\"M18.56 5.44l.94 2.06.94-2.06 2.06-.94-2.06-.94-.94-2.06-.94 2.06-2.06.94zm-11 1L8.5 8.5l.94-2.06 2.06-.94-2.06-.94L8.5 2.5l-.94 2.06-2.06.94zm10 10l.94 2.06.94-2.06 2.06-.94-2.06-.94-.94-2.06-.94 2.06-2.06.94z\"/><path d=\"M17.41 7.96l-1.37-1.37c-.4-.4-.92-.59-1.43-.59-.52 0-1.04.2-1.43.59L10.3 9.45l-7.72 7.72c-.78.78-.78 2.05 0 2.83L4 21.41c.39.39.9.59 1.41.59.51 0 1.02-.2 1.41-.59l7.78-7.78 2.81-2.81c.8-.78.8-2.07 0-2.86zM5.41 20L4 18.59l7.72-7.72 1.47 1.35L5.41 20z\"/>\n",
              "  </svg>\n",
              "      </button>\n",
              "      \n",
              "  <style>\n",
              "    .colab-df-container {\n",
              "      display:flex;\n",
              "      flex-wrap:wrap;\n",
              "      gap: 12px;\n",
              "    }\n",
              "\n",
              "    .colab-df-convert {\n",
              "      background-color: #E8F0FE;\n",
              "      border: none;\n",
              "      border-radius: 50%;\n",
              "      cursor: pointer;\n",
              "      display: none;\n",
              "      fill: #1967D2;\n",
              "      height: 32px;\n",
              "      padding: 0 0 0 0;\n",
              "      width: 32px;\n",
              "    }\n",
              "\n",
              "    .colab-df-convert:hover {\n",
              "      background-color: #E2EBFA;\n",
              "      box-shadow: 0px 1px 2px rgba(60, 64, 67, 0.3), 0px 1px 3px 1px rgba(60, 64, 67, 0.15);\n",
              "      fill: #174EA6;\n",
              "    }\n",
              "\n",
              "    [theme=dark] .colab-df-convert {\n",
              "      background-color: #3B4455;\n",
              "      fill: #D2E3FC;\n",
              "    }\n",
              "\n",
              "    [theme=dark] .colab-df-convert:hover {\n",
              "      background-color: #434B5C;\n",
              "      box-shadow: 0px 1px 3px 1px rgba(0, 0, 0, 0.15);\n",
              "      filter: drop-shadow(0px 1px 2px rgba(0, 0, 0, 0.3));\n",
              "      fill: #FFFFFF;\n",
              "    }\n",
              "  </style>\n",
              "\n",
              "      <script>\n",
              "        const buttonEl =\n",
              "          document.querySelector('#df-63d94c9a-8320-439e-bd33-8cc379c7e826 button.colab-df-convert');\n",
              "        buttonEl.style.display =\n",
              "          google.colab.kernel.accessAllowed ? 'block' : 'none';\n",
              "\n",
              "        async function convertToInteractive(key) {\n",
              "          const element = document.querySelector('#df-63d94c9a-8320-439e-bd33-8cc379c7e826');\n",
              "          const dataTable =\n",
              "            await google.colab.kernel.invokeFunction('convertToInteractive',\n",
              "                                                     [key], {});\n",
              "          if (!dataTable) return;\n",
              "\n",
              "          const docLinkHtml = 'Like what you see? Visit the ' +\n",
              "            '<a target=\"_blank\" href=https://colab.research.google.com/notebooks/data_table.ipynb>data table notebook</a>'\n",
              "            + ' to learn more about interactive tables.';\n",
              "          element.innerHTML = '';\n",
              "          dataTable['output_type'] = 'display_data';\n",
              "          await google.colab.output.renderOutput(dataTable, element);\n",
              "          const docLink = document.createElement('div');\n",
              "          docLink.innerHTML = docLinkHtml;\n",
              "          element.appendChild(docLink);\n",
              "        }\n",
              "      </script>\n",
              "    </div>\n",
              "  </div>\n",
              "  "
            ]
          },
          "metadata": {},
          "execution_count": 31
        }
      ],
      "source": [
        "df_h=pd.DataFrame(data=history.history)\n",
        "df_h"
      ],
      "id": "tr0zkGKkaXyy"
    },
    {
      "cell_type": "markdown",
      "source": [
        "## Prédiction données de test"
      ],
      "metadata": {
        "id": "D18VC09VcXkz"
      },
      "id": "D18VC09VcXkz"
    },
    {
      "cell_type": "code",
      "execution_count": 32,
      "metadata": {
        "id": "6aBpArWQbK9q",
        "colab": {
          "base_uri": "https://localhost:8080/"
        },
        "outputId": "efb43a89-4016-4554-f84e-35744be3099e"
      },
      "outputs": [
        {
          "output_type": "stream",
          "name": "stdout",
          "text": [
            "41/41 [==============================] - 1s 14ms/step\n"
          ]
        }
      ],
      "source": [
        "prediction=model.predict(X_val_vectors_tfidf.toarray())\n"
      ],
      "id": "6aBpArWQbK9q"
    },
    {
      "cell_type": "code",
      "source": [
        "print(prediction)"
      ],
      "metadata": {
        "colab": {
          "base_uri": "https://localhost:8080/"
        },
        "id": "dZbeQOnHGDcI",
        "outputId": "9749649e-0533-49df-a81f-c4bd390d10a9"
      },
      "id": "dZbeQOnHGDcI",
      "execution_count": 33,
      "outputs": [
        {
          "output_type": "stream",
          "name": "stdout",
          "text": [
            "[[0.15995479]\n",
            " [0.4019822 ]\n",
            " [0.7057677 ]\n",
            " ...\n",
            " [0.01812977]\n",
            " [0.07999831]\n",
            " [0.08331309]]\n"
          ]
        }
      ]
    },
    {
      "cell_type": "code",
      "source": [
        "from sklearn.metrics import confusion_matrix\n",
        "conf_mat=confusion_matrix(y_val, prediction.round())\n",
        "print('Confusion Matrix:')\n",
        "print(confusion_matrix(y_val, prediction.round()))"
      ],
      "metadata": {
        "colab": {
          "base_uri": "https://localhost:8080/"
        },
        "id": "tBzIm6hk8APm",
        "outputId": "f4565edd-6541-4eab-b947-adc5c5a481ee"
      },
      "id": "tBzIm6hk8APm",
      "execution_count": 34,
      "outputs": [
        {
          "output_type": "stream",
          "name": "stdout",
          "text": [
            "Confusion Matrix:\n",
            "[[559  55]\n",
            " [ 55 615]]\n"
          ]
        }
      ]
    },
    {
      "cell_type": "code",
      "source": [
        "DetaFrame_cm = pd.DataFrame(conf_mat, range(2), range(2))\n",
        "sns.heatmap(DetaFrame_cm, annot=True, fmt='d')\n",
        "plt.show()"
      ],
      "metadata": {
        "colab": {
          "base_uri": "https://localhost:8080/",
          "height": 265
        },
        "id": "dfMhANe9BzSF",
        "outputId": "eda20418-f95c-4490-b423-5988c88d8678"
      },
      "id": "dfMhANe9BzSF",
      "execution_count": 35,
      "outputs": [
        {
          "output_type": "display_data",
          "data": {
            "text/plain": [
              "<Figure size 432x288 with 2 Axes>"
            ],
            "image/png": "[encoded data removed]"
          },
          "metadata": {
            "needs_background": "light"
          }
        }
      ]
    },
    {
      "cell_type": "code",
      "execution_count": 36,
      "metadata": {
        "id": "yZIsGsA3qxu6"
      },
      "outputs": [],
      "source": [
        "y_val=y_val.replace(1,'real')\n",
        "y_val=y_val.replace(0,'fake')"
      ],
      "id": "yZIsGsA3qxu6"
    },
    {
      "cell_type": "code",
      "execution_count": 37,
      "metadata": {
        "id": "t_NDtVj4b20I"
      },
      "outputs": [],
      "source": [
        "#print(f\"prediction: {prediction.round()}\")\n",
        "redif_prediction=['']*len(prediction)\n",
        "for i in range(len(prediction)):\n",
        "  if prediction.round()[i]==1:\n",
        "    redif_prediction[i]='real'\n",
        "  else:\n",
        "    redif_prediction[i]='fake'\n",
        "#print(f\"prediction categorie: {redif_prediction}\")\n",
        "#print(f\"reality: {y_val}\")\n"
      ],
      "id": "t_NDtVj4b20I"
    },
    {
      "cell_type": "code",
      "execution_count": 38,
      "metadata": {
        "id": "j3CnmYECowOt"
      },
      "outputs": [],
      "source": [
        "redif_prediction=['test']*len(prediction)\n",
        "for i in range(len(prediction)):\n",
        "  if prediction.round()[i]==1:\n",
        "    redif_prediction[i]='real'\n",
        "  else:\n",
        "    redif_prediction[i]='fake'\n",
        "#print(f\"prediction: {redif_prediction}\")\n"
      ],
      "id": "j3CnmYECowOt"
    },
    {
      "cell_type": "markdown",
      "source": [
        "# INTERFACE GRAPHIQUE"
      ],
      "metadata": {
        "id": "4jwcRocXcyQb"
      },
      "id": "4jwcRocXcyQb"
    },
    {
      "cell_type": "code",
      "source": [
        "#!pip install gradio"
      ],
      "metadata": {
        "id": "ISPm0f4vy4IX"
      },
      "id": "ISPm0f4vy4IX",
      "execution_count": 42,
      "outputs": []
    },
    {
      "cell_type": "code",
      "source": [
        "def predict_text(tweet):\n",
        "  redif_predict=''\n",
        "  texte=finalpreprocess(tweet)\n",
        "  s=pd.Series(texte)\n",
        "  s_tdidf=tfidf_vectorizer.transform(s)\n",
        "  predict=model.predict(s_tdidf.toarray())\n",
        "  if predict.round()==1:\n",
        "    redif_predict='real'\n",
        "  else:\n",
        "    redif_predict='fake'\n",
        "  return redif_predict\n"
      ],
      "metadata": {
        "id": "4PIvwK_URkMC"
      },
      "id": "4PIvwK_URkMC",
      "execution_count": 40,
      "outputs": []
    },
    {
      "cell_type": "code",
      "source": [
        "import gradio as gr\n",
        "gr.Interface(predict_text, \"textbox\", outputs=gr.outputs.Textbox()).launch()\n"
      ],
      "metadata": {
        "id": "8cslV_AYELZc",
        "colab": {
          "base_uri": "https://localhost:8080/",
          "height": 732
        },
        "outputId": "5bf5717e-c942-40a6-df34-d51ea5382b15"
      },
      "id": "8cslV_AYELZc",
      "execution_count": 41,
      "outputs": [
        {
          "output_type": "stream",
          "name": "stderr",
          "text": [
            "/usr/local/lib/python3.7/dist-packages/gradio/outputs.py:22: UserWarning: Usage of gradio.outputs is deprecated, and will not be supported in the future, please import your components from gradio.components\n",
            "  \"Usage of gradio.outputs is deprecated, and will not be supported in the future, please import your components from gradio.components\",\n",
            "/usr/local/lib/python3.7/dist-packages/gradio/deprecation.py:40: UserWarning: The 'type' parameter has been deprecated. Use the Number component instead.\n",
            "  warnings.warn(value)\n"
          ]
        },
        {
          "output_type": "stream",
          "name": "stdout",
          "text": [
            "Colab notebook detected. To show errors in colab notebook, set `debug=True` in `launch()`\n",
            "Running on public URL: https://29040.gradio.app\n",
            "\n",
            "This share link expires in 72 hours. For free permanent hosting, check out Spaces: https://huggingface.co/spaces\n"
          ]
        },
        {
          "output_type": "display_data",
          "data": {
            "text/plain": [
              "<IPython.core.display.HTML object>"
            ],
            "text/html": [
              "<div><iframe src=\"https://29040.gradio.app\" width=\"900\" height=\"500\" allow=\"autoplay; camera; microphone; clipboard-read; clipboard-write;\" frameborder=\"0\" allowfullscreen></iframe></div>"
            ]
          },
          "metadata": {}
        },
        {
          "output_type": "execute_result",
          "data": {
            "text/plain": [
              "(<gradio.routes.App at 0x7f04b8c48610>,\n",
              " 'http://127.0.0.1:7860/',\n",
              " 'https://29040.gradio.app')"
            ]
          },
          "metadata": {},
          "execution_count": 41
        }
      ]
    }
  ],
  "metadata": {
    "colab": {
      "collapsed_sections": [],
      "provenance": []
    },
    "kernelspec": {
      "display_name": "Python 3",
      "language": "python",
      "name": "python3"
    },
    "language_info": {
      "codemirror_mode": {
        "name": "ipython",
        "version": 3
      },
      "file_extension": ".py",
      "mimetype": "text/x-python",
      "name": "python",
      "nbconvert_exporter": "python",
      "pygments_lexer": "ipython3",
      "version": "3.8.8"
    }
  },
  "nbformat": 4,
  "nbformat_minor": 5
}